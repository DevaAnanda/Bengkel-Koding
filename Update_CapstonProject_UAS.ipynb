{
  "cells": [
    {
      "cell_type": "markdown",
      "metadata": {
        "id": "view-in-github",
        "colab_type": "text"
      },
      "source": [
        "<a href=\"https://colab.research.google.com/github/DevaAnanda/Bengkel-Koding/blob/main/Update_CapstonProject_UAS.ipynb\" target=\"_parent\"><img src=\"https://colab.research.google.com/assets/colab-badge.svg\" alt=\"Open In Colab\"/></a>"
      ]
    },
    {
      "cell_type": "code",
      "execution_count": 1,
      "metadata": {
        "id": "ZQWXOV7Bt-Qb"
      },
      "outputs": [],
      "source": [
        "import pandas as pd\n",
        "import numpy as np\n",
        "import matplotlib.pyplot as plt\n",
        "import seaborn as sns\n",
        "\n",
        "from sklearn.model_selection import train_test_split, GridSearchCV\n",
        "from sklearn.preprocessing import StandardScaler, OneHotEncoder\n",
        "from sklearn.compose import ColumnTransformer\n",
        "from imblearn.pipeline import Pipeline\n",
        "from imblearn.over_sampling import SMOTE\n",
        "\n",
        "from sklearn.ensemble import RandomForestClassifier\n",
        "from sklearn.neighbors import KNeighborsClassifier\n",
        "from sklearn.svm import SVC\n",
        "\n",
        "from sklearn.metrics import classification_report, confusion_matrix, accuracy_score"
      ]
    },
    {
      "cell_type": "code",
      "execution_count": 2,
      "metadata": {
        "id": "g99ih0gZuEWB"
      },
      "outputs": [],
      "source": [
        "df = pd.read_csv('ObesityDataSet.csv')"
      ]
    },
    {
      "cell_type": "code",
      "execution_count": 3,
      "metadata": {
        "colab": {
          "base_uri": "https://localhost:8080/"
        },
        "id": "eR-UiFLUuMH6",
        "outputId": "cee96642-b2e5-415f-e3bd-720c436b555e"
      },
      "outputs": [
        {
          "output_type": "stream",
          "name": "stdout",
          "text": [
            "  Age  Gender Height Weight        CALC FAVC FCVC NCP  SCC SMOKE CH2O  \\\n",
            "0  21  Female   1.62     64          no   no    2   3   no    no    2   \n",
            "1  21  Female   1.52     56   Sometimes   no    3   3  yes   yes    3   \n",
            "2  23    Male    1.8     77  Frequently   no    2   3   no    no    2   \n",
            "3  27    Male    1.8     87  Frequently   no    3   3   no    no    2   \n",
            "4  22    Male   1.78   89.8   Sometimes   no    2   1   no    no    2   \n",
            "\n",
            "  family_history_with_overweight FAF TUE       CAEC                 MTRANS  \\\n",
            "0                            yes   0   1  Sometimes  Public_Transportation   \n",
            "1                            yes   3   0  Sometimes  Public_Transportation   \n",
            "2                            yes   2   1  Sometimes  Public_Transportation   \n",
            "3                             no   2   0  Sometimes                Walking   \n",
            "4                             no   0   0  Sometimes  Public_Transportation   \n",
            "\n",
            "            NObeyesdad  \n",
            "0        Normal_Weight  \n",
            "1        Normal_Weight  \n",
            "2        Normal_Weight  \n",
            "3   Overweight_Level_I  \n",
            "4  Overweight_Level_II  \n"
          ]
        }
      ],
      "source": [
        "print(df.head())"
      ]
    },
    {
      "cell_type": "code",
      "source": [
        "numerical_cols = ['Age', 'Height', 'Weight', 'FCVC', 'NCP', 'CH2O', 'FAF', 'TUE']\n",
        "categorical_cols = ['Gender', 'family_history_with_overweight', 'FAVC',\n",
        "                    'CAEC', 'SMOKE', 'SCC', 'CALC', 'MTRANS']"
      ],
      "metadata": {
        "id": "06UkEBoQ_h8r"
      },
      "execution_count": 4,
      "outputs": []
    },
    {
      "cell_type": "code",
      "source": [
        "# Ganti '?' dengan NaN\n",
        "df_eda = df.copy()\n",
        "df_eda.replace('?', np.nan, inplace=True)"
      ],
      "metadata": {
        "id": "pUZyJKcq_mAq"
      },
      "execution_count": 5,
      "outputs": []
    },
    {
      "cell_type": "code",
      "source": [
        "# Konversi numerik (belum distandardkan!)\n",
        "for col in numerical_cols:\n",
        "    df_eda[col] = pd.to_numeric(df_eda[col], errors='coerce').round(2)"
      ],
      "metadata": {
        "id": "2xs_80wJ_n3k"
      },
      "execution_count": 6,
      "outputs": []
    },
    {
      "cell_type": "code",
      "execution_count": 7,
      "metadata": {
        "colab": {
          "base_uri": "https://localhost:8080/"
        },
        "id": "HWKX_Pe7uRyi",
        "outputId": "3b44fa7b-d4d9-4d1c-fbc6-496d24fa065b"
      },
      "outputs": [
        {
          "output_type": "stream",
          "name": "stdout",
          "text": [
            "<class 'pandas.core.frame.DataFrame'>\n",
            "RangeIndex: 2111 entries, 0 to 2110\n",
            "Data columns (total 17 columns):\n",
            " #   Column                          Non-Null Count  Dtype  \n",
            "---  ------                          --------------  -----  \n",
            " 0   Age                             2089 non-null   float64\n",
            " 1   Gender                          2089 non-null   object \n",
            " 2   Height                          2089 non-null   float64\n",
            " 3   Weight                          2092 non-null   float64\n",
            " 4   CALC                            2091 non-null   object \n",
            " 5   FAVC                            2089 non-null   object \n",
            " 6   FCVC                            2093 non-null   float64\n",
            " 7   NCP                             2089 non-null   float64\n",
            " 8   SCC                             2093 non-null   object \n",
            " 9   SMOKE                           2098 non-null   object \n",
            " 10  CH2O                            2096 non-null   float64\n",
            " 11  family_history_with_overweight  2088 non-null   object \n",
            " 12  FAF                             2092 non-null   float64\n",
            " 13  TUE                             2096 non-null   float64\n",
            " 14  CAEC                            2093 non-null   object \n",
            " 15  MTRANS                          2099 non-null   object \n",
            " 16  NObeyesdad                      2111 non-null   object \n",
            "dtypes: float64(8), object(9)\n",
            "memory usage: 280.5+ KB\n",
            "None\n"
          ]
        }
      ],
      "source": [
        "print(df_eda.info())"
      ]
    },
    {
      "cell_type": "code",
      "execution_count": 8,
      "metadata": {
        "colab": {
          "base_uri": "https://localhost:8080/"
        },
        "id": "tI1KAu_iuXNJ",
        "outputId": "171e81be-a90c-4071-c0f5-07a77f35a1e7"
      },
      "outputs": [
        {
          "output_type": "stream",
          "name": "stdout",
          "text": [
            "               Age       Height       Weight         FCVC          NCP  \\\n",
            "count  2089.000000  2089.000000  2092.000000  2093.000000  2089.000000   \n",
            "mean     24.717894     1.706573    88.608169     2.443469     2.729445   \n",
            "std       8.391368     0.117753    36.154653     0.642897     0.981183   \n",
            "min      14.000000     1.450000    39.000000     1.000000     1.000000   \n",
            "25%      19.960000     1.630000    66.000000     2.000000     2.680000   \n",
            "50%      22.810000     1.700000    83.000000     2.400000     3.000000   \n",
            "75%      26.000000     1.770000   108.052500     3.000000     3.000000   \n",
            "max     106.440000     2.850000   441.130000     8.710000    12.300000   \n",
            "\n",
            "              CH2O          FAF          TUE  \n",
            "count  2096.000000  2092.000000  2096.000000  \n",
            "mean      2.030601     1.073446     0.680162  \n",
            "std       0.737906     1.149335     0.717202  \n",
            "min       1.000000     0.000000     0.000000  \n",
            "25%       1.570000     0.130000     0.000000  \n",
            "50%       2.000000     1.000000     0.630000  \n",
            "75%       2.480000     1.680000     1.000000  \n",
            "max       9.230000    12.270000     7.670000  \n"
          ]
        }
      ],
      "source": [
        "print(df_eda.describe())"
      ]
    },
    {
      "cell_type": "code",
      "execution_count": 9,
      "metadata": {
        "colab": {
          "base_uri": "https://localhost:8080/"
        },
        "id": "ELtrEpwouZBp",
        "outputId": "b6c79d2f-a418-4894-a23f-c5a6f6c926f6"
      },
      "outputs": [
        {
          "output_type": "stream",
          "name": "stdout",
          "text": [
            "\n",
            "Missing Values:\n",
            " Age                               22\n",
            "Gender                            22\n",
            "Height                            22\n",
            "Weight                            19\n",
            "CALC                              20\n",
            "FAVC                              22\n",
            "FCVC                              18\n",
            "NCP                               22\n",
            "SCC                               18\n",
            "SMOKE                             13\n",
            "CH2O                              15\n",
            "family_history_with_overweight    23\n",
            "FAF                               19\n",
            "TUE                               15\n",
            "CAEC                              18\n",
            "MTRANS                            12\n",
            "NObeyesdad                         0\n",
            "dtype: int64\n",
            "\n",
            "Unique Values:\n",
            " Age                                927\n",
            "Gender                               2\n",
            "Height                              61\n",
            "Weight                            1333\n",
            "CALC                                 4\n",
            "FAVC                                 2\n",
            "FCVC                               188\n",
            "NCP                                265\n",
            "SCC                                  2\n",
            "SMOKE                                2\n",
            "CH2O                               209\n",
            "family_history_with_overweight       2\n",
            "FAF                                269\n",
            "TUE                                201\n",
            "CAEC                                 4\n",
            "MTRANS                               5\n",
            "NObeyesdad                           7\n",
            "dtype: int64\n",
            "\n",
            "Duplicates: 18\n"
          ]
        }
      ],
      "source": [
        "print(\"\\nMissing Values:\\n\", df_eda.isnull().sum())\n",
        "print(\"\\nUnique Values:\\n\", df_eda.nunique())\n",
        "print(\"\\nDuplicates:\", df_eda.duplicated().sum())"
      ]
    },
    {
      "cell_type": "code",
      "execution_count": 10,
      "metadata": {
        "colab": {
          "base_uri": "https://localhost:8080/",
          "height": 651
        },
        "id": "i34MHOBEucqS",
        "outputId": "d291ddf3-2f35-4218-88ae-de58d03351f3"
      },
      "outputs": [
        {
          "output_type": "stream",
          "name": "stderr",
          "text": [
            "/tmp/ipython-input-10-1401493908.py:3: FutureWarning: \n",
            "\n",
            "Passing `palette` without assigning `hue` is deprecated and will be removed in v0.14.0. Assign the `y` variable to `hue` and set `legend=False` for the same effect.\n",
            "\n",
            "  sns.countplot(y='NObeyesdad', data=df_eda, order=df_eda['NObeyesdad'].value_counts().index, palette='Set2')\n"
          ]
        },
        {
          "output_type": "display_data",
          "data": {
            "text/plain": [
              "<Figure size 1000x600 with 1 Axes>"
            ],
            "image/png": "[encoded data removed]"
          },
          "metadata": {}
        }
      ],
      "source": [
        "# Visualisasi distribusi target\n",
        "plt.figure(figsize=(10, 6))\n",
        "sns.countplot(y='NObeyesdad', data=df_eda, order=df_eda['NObeyesdad'].value_counts().index, palette='Set2')\n",
        "plt.title('Distribusi Kelas Target')\n",
        "plt.show()"
      ]
    },
    {
      "cell_type": "code",
      "execution_count": 17,
      "metadata": {
        "colab": {
          "base_uri": "https://localhost:8080/",
          "height": 1000
        },
        "id": "tWcgYTJFufn5",
        "outputId": "451d9af6-8654-430f-de78-b1bf7aad092d"
      },
      "outputs": [
        {
          "output_type": "display_data",
          "data": {
            "text/plain": [
              "<Figure size 1500x1200 with 8 Axes>"
            ],
            "image/png": "[encoded data removed]"
          },
          "metadata": {}
        }
      ],
      "source": [
        "# Boxplot numerik (belum scaling)\n",
        "plt.figure(figsize=(15, 12))\n",
        "for i, col in enumerate(numerical_cols, 1):\n",
        "    plt.subplot(3, 3, i)\n",
        "    sns.boxplot(y=df_eda[col], color='skyblue')\n",
        "    plt.title(f'Boxplot {col}')\n",
        "    plt.ylabel(col)\n",
        "    plt.tick_params(axis='y', labelsize=8)\n",
        "plt.tight_layout()\n",
        "plt.show()"
      ]
    },
    {
      "cell_type": "markdown",
      "metadata": {
        "id": "bwTFpiPBwTDh"
      },
      "source": [
        "Kesimpulan EDA:\n",
        "- Tidak ada missing values yang diakui, tapi ada '?' sebagai missing marker.\n",
        "- Terdapat imbalance class pada target.\n",
        "- Ada kemungkinan outlier pada fitur numerik."
      ]
    },
    {
      "cell_type": "markdown",
      "metadata": {
        "id": "g5tISOTJu6k5"
      },
      "source": [
        "# -----------------------------------------------------\n",
        "# 4️⃣ Data Cleaning & Preprocessing\n",
        "# -----------------------------------------------------"
      ]
    },
    {
      "cell_type": "code",
      "execution_count": 12,
      "metadata": {
        "id": "pzv-pkxjvJY7"
      },
      "outputs": [],
      "source": [
        "# Ganti '?' dengan NaN\n",
        "df.replace('?', np.nan, inplace=True)"
      ]
    },
    {
      "cell_type": "code",
      "execution_count": 13,
      "metadata": {
        "id": "ZABC-bv6vLS6"
      },
      "outputs": [],
      "source": [
        "# Konversi kolom numerik\n",
        "for col in numerical_cols:\n",
        "    df[col] = pd.to_numeric(df[col], errors='coerce')"
      ]
    },
    {
      "cell_type": "code",
      "execution_count": 14,
      "metadata": {
        "id": "C9I4zf7KvRj6"
      },
      "outputs": [],
      "source": [
        "# Isi missing values\n",
        "df[numerical_cols] = df[numerical_cols].fillna(df[numerical_cols].median())\n",
        "df[categorical_cols] = df[categorical_cols].astype(str).fillna('Missing')"
      ]
    },
    {
      "cell_type": "code",
      "execution_count": 15,
      "metadata": {
        "id": "5DDEMBWIvWdJ"
      },
      "outputs": [],
      "source": [
        "# Hapus duplikat\n",
        "df.drop_duplicates(inplace=True)"
      ]
    },
    {
      "cell_type": "code",
      "source": [
        "# Fungsi untuk menghapus outlier dari DataFrame berdasarkan IQR\n",
        "def remove_outliers_iqr(df, cols):\n",
        "    df_clean = df.copy()\n",
        "    for col in cols:\n",
        "        Q1 = df_clean[col].quantile(0.25)\n",
        "        Q3 = df_clean[col].quantile(0.75)\n",
        "        IQR = Q3 - Q1\n",
        "        lower_bound = Q1 - 1.5 * IQR\n",
        "        upper_bound = Q3 + 1.5 * IQR\n",
        "\n",
        "        # Filter baris yang berada dalam batas IQR\n",
        "        df_clean = df_clean[(df_clean[col] >= lower_bound) & (df_clean[col] <= upper_bound)]\n",
        "\n",
        "    return df_clean\n",
        "\n",
        "# Terapkan fungsi untuk menghapus outlier dari kolom numerik\n",
        "df_no_outliers = remove_outliers_iqr(df, numerical_cols)\n",
        "\n",
        "# Cek ukuran data sebelum dan sesudah\n",
        "print(f\"Jumlah data sebelum: {df.shape[0]}\")\n",
        "print(f\"Jumlah data sesudah menghapus outlier: {df_no_outliers.shape[0]}\")\n"
      ],
      "metadata": {
        "id": "GyXo85GB_rLp",
        "outputId": "7fd7abfd-d7e1-46ca-9ee2-f713357d70ce",
        "colab": {
          "base_uri": "https://localhost:8080/"
        }
      },
      "execution_count": 20,
      "outputs": [
        {
          "output_type": "stream",
          "name": "stdout",
          "text": [
            "Jumlah data sebelum: 2092\n",
            "Jumlah data sesudah menghapus outlier: 1316\n"
          ]
        }
      ]
    },
    {
      "cell_type": "code",
      "source": [
        "def cap_outliers_iqr(df, cols):\n",
        "    df_capped = df.copy()\n",
        "    for col in cols:\n",
        "        Q1 = df_capped[col].quantile(0.25)\n",
        "        Q3 = df_capped[col].quantile(0.75)\n",
        "        IQR = Q3 - Q1\n",
        "        lower_bound = Q1 - 1.5 * IQR\n",
        "        upper_bound = Q3 + 1.5 * IQR\n",
        "\n",
        "        df_capped[col] = np.where(df_capped[col] < lower_bound, lower_bound,\n",
        "                           np.where(df_capped[col] > upper_bound, upper_bound, df_capped[col]))\n",
        "    return df_capped\n",
        "\n",
        "# Terapkan\n",
        "df_capped = cap_outliers_iqr(df, numerical_cols)\n"
      ],
      "metadata": {
        "id": "lvYxMd1lB0Fp"
      },
      "execution_count": 27,
      "outputs": []
    },
    {
      "cell_type": "code",
      "source": [
        "from collections import Counter\n",
        "\n",
        "# Jumlah data sebelum dan sesudah\n",
        "print(\"Jumlah data awal:\", df.shape[0])\n",
        "print(\"Jumlah data setelah hapus outlier:\", df_no_outliers.shape[0])\n",
        "\n",
        "# Distribusi kelas sebelum dan sesudah\n",
        "print(\"\\nDistribusi kelas SEBELUM hapus outlier:\")\n",
        "print(df['NObeyesdad'].value_counts())\n",
        "\n",
        "print(\"\\nDistribusi kelas SESUDAH hapus outlier:\")\n",
        "print(df_no_outliers['NObeyesdad'].value_counts())\n"
      ],
      "metadata": {
        "id": "6xlFrtqUB21u",
        "outputId": "dd60c781-08dd-4c0a-d7bb-c726e119c09f",
        "colab": {
          "base_uri": "https://localhost:8080/"
        }
      },
      "execution_count": 28,
      "outputs": [
        {
          "output_type": "stream",
          "name": "stdout",
          "text": [
            "Jumlah data awal: 2092\n",
            "Jumlah data setelah hapus outlier: 1316\n",
            "\n",
            "Distribusi kelas SEBELUM hapus outlier:\n",
            "NObeyesdad\n",
            "Obesity_Type_I         351\n",
            "Obesity_Type_III       324\n",
            "Obesity_Type_II        297\n",
            "Overweight_Level_II    290\n",
            "Normal_Weight          285\n",
            "Overweight_Level_I     276\n",
            "Insufficient_Weight    269\n",
            "Name: count, dtype: int64\n",
            "\n",
            "Distribusi kelas SESUDAH hapus outlier:\n",
            "NObeyesdad\n",
            "Obesity_Type_III       314\n",
            "Obesity_Type_II        202\n",
            "Normal_Weight          189\n",
            "Obesity_Type_I         188\n",
            "Overweight_Level_II    157\n",
            "Overweight_Level_I     139\n",
            "Insufficient_Weight    127\n",
            "Name: count, dtype: int64\n"
          ]
        }
      ]
    },
    {
      "cell_type": "markdown",
      "metadata": {
        "id": "LneZtt4Hv5Sx"
      },
      "source": [
        "Kesimpulan Preprocessing:\n",
        "- Missing values sudah ditangani.\n",
        "- Data duplikat sudah dihapus.\n",
        "- Data siap digunakan untuk modeling.\n",
        "- mengatasi outlier\n",
        "\n"
      ]
    },
    {
      "cell_type": "markdown",
      "metadata": {
        "id": "iEUty8jcwY6q"
      },
      "source": [
        "# -----------------------------------------------------\n",
        "# 5️⃣ Split Data\n",
        "# -----------------------------------------------------"
      ]
    },
    {
      "cell_type": "code",
      "execution_count": 36,
      "metadata": {
        "id": "P_lqzBvVwbbK"
      },
      "outputs": [],
      "source": [
        "X = df_no_outliers.drop('NObeyesdad', axis=1)\n",
        "y = df_no_outliers['NObeyesdad']"
      ]
    },
    {
      "cell_type": "code",
      "source": [
        "X = df_capped.drop('NObeyesdad', axis=1)\n",
        "y = df_capped['NObeyesdad']"
      ],
      "metadata": {
        "id": "BtktxbQSCEfF"
      },
      "execution_count": 42,
      "outputs": []
    },
    {
      "cell_type": "code",
      "execution_count": 43,
      "metadata": {
        "id": "FWgJLL7Rwh1R"
      },
      "outputs": [],
      "source": [
        "# Split data\n",
        "X_train, X_test, y_train, y_test = train_test_split(X, y, stratify=y, test_size=0.2, random_state=42)"
      ]
    },
    {
      "cell_type": "markdown",
      "source": [
        "# -----------------------------------------------------\n",
        "# 6️⃣ Pipeline Modeling\n",
        "# -----------------------------------------------------"
      ],
      "metadata": {
        "id": "xR5x9xC7BMy8"
      }
    },
    {
      "cell_type": "code",
      "execution_count": 44,
      "metadata": {
        "id": "MFAVT3J7wf_M"
      },
      "outputs": [],
      "source": [
        "# OneHotEncoder untuk kategori, StandardScaler untuk numerik\n",
        "preprocessor = ColumnTransformer([\n",
        "    ('num', StandardScaler(), numerical_cols),\n",
        "    ('cat', OneHotEncoder(drop='first'), categorical_cols)\n",
        "])"
      ]
    },
    {
      "cell_type": "code",
      "source": [
        "# Pipelines with SMOTE\n",
        "rf_pipeline = Pipeline([\n",
        "    ('preprocessing', preprocessor),\n",
        "    ('smote', SMOTE(random_state=42)),\n",
        "    ('classifier', RandomForestClassifier(random_state=42))\n",
        "])\n",
        "\n",
        "knn_pipeline = Pipeline([\n",
        "    ('preprocessing', preprocessor),\n",
        "    ('smote', SMOTE(random_state=42)),\n",
        "    ('classifier', KNeighborsClassifier())\n",
        "])\n",
        "\n",
        "svm_pipeline = Pipeline([\n",
        "    ('preprocessing', preprocessor),\n",
        "    ('smote', SMOTE(random_state=42)),\n",
        "    ('classifier', SVC(random_state=42))\n",
        "])"
      ],
      "metadata": {
        "id": "e7EywmaeAvUd"
      },
      "execution_count": 45,
      "outputs": []
    },
    {
      "cell_type": "markdown",
      "source": [
        "# -----------------------------------------------------\n",
        "# 7️⃣ Training & Evaluation\n",
        "# -----------------------------------------------------"
      ],
      "metadata": {
        "id": "OAD2dwAqBSm6"
      }
    },
    {
      "cell_type": "code",
      "source": [
        "pipelines = {\n",
        "    'RandomForest': rf_pipeline,\n",
        "    'KNN': knn_pipeline,\n",
        "    'SVM': svm_pipeline\n",
        "}\n",
        "\n",
        "results = {}\n",
        "for name, pipe in pipelines.items():\n",
        "    print(f'\\n🔎 Model: {name}')\n",
        "    pipe.fit(X_train, y_train)\n",
        "    y_pred = pipe.predict(X_test)\n",
        "    acc = accuracy_score(y_test, y_pred)\n",
        "    print(f'Akurasi: {acc:.4f}')\n",
        "    print(classification_report(y_test, y_pred))\n",
        "    cm = confusion_matrix(y_test, y_pred)\n",
        "    plt.figure(figsize=(6,4))\n",
        "    sns.heatmap(cm, annot=True, fmt='d', cmap='Blues')\n",
        "    plt.title(f'Confusion Matrix - {name}')\n",
        "    plt.xlabel('Predicted')\n",
        "    plt.ylabel('Actual')\n",
        "    plt.show()\n",
        "    results[name] = acc"
      ],
      "metadata": {
        "id": "TPraFmoCA-9b",
        "outputId": "44ac4776-c8f0-4703-e46f-17c52e1b7e7c",
        "colab": {
          "base_uri": "https://localhost:8080/",
          "height": 1000
        }
      },
      "execution_count": 46,
      "outputs": [
        {
          "output_type": "stream",
          "name": "stdout",
          "text": [
            "\n",
            "🔎 Model: RandomForest\n",
            "Akurasi: 0.9427\n",
            "                     precision    recall  f1-score   support\n",
            "\n",
            "Insufficient_Weight       0.98      0.94      0.96        54\n",
            "      Normal_Weight       0.81      0.95      0.87        57\n",
            "     Obesity_Type_I       0.96      0.94      0.95        70\n",
            "    Obesity_Type_II       1.00      0.98      0.99        60\n",
            "   Obesity_Type_III       1.00      0.98      0.99        65\n",
            " Overweight_Level_I       0.89      0.89      0.89        55\n",
            "Overweight_Level_II       0.98      0.90      0.94        58\n",
            "\n",
            "           accuracy                           0.94       419\n",
            "          macro avg       0.95      0.94      0.94       419\n",
            "       weighted avg       0.95      0.94      0.94       419\n",
            "\n"
          ]
        },
        {
          "output_type": "display_data",
          "data": {
            "text/plain": [
              "<Figure size 600x400 with 2 Axes>"
            ],
            "image/png": "[encoded data removed]"
          },
          "metadata": {}
        },
        {
          "output_type": "stream",
          "name": "stdout",
          "text": [
            "\n",
            "🔎 Model: KNN\n",
            "Akurasi: 0.8258\n",
            "                     precision    recall  f1-score   support\n",
            "\n",
            "Insufficient_Weight       0.84      0.91      0.88        54\n",
            "      Normal_Weight       0.71      0.44      0.54        57\n",
            "     Obesity_Type_I       0.78      0.89      0.83        70\n",
            "    Obesity_Type_II       0.91      0.98      0.94        60\n",
            "   Obesity_Type_III       0.98      1.00      0.99        65\n",
            " Overweight_Level_I       0.68      0.69      0.68        55\n",
            "Overweight_Level_II       0.80      0.83      0.81        58\n",
            "\n",
            "           accuracy                           0.83       419\n",
            "          macro avg       0.82      0.82      0.81       419\n",
            "       weighted avg       0.82      0.83      0.82       419\n",
            "\n"
          ]
        },
        {
          "output_type": "display_data",
          "data": {
            "text/plain": [
              "<Figure size 600x400 with 2 Axes>"
            ],
            "image/png": "[encoded data removed]"
          },
          "metadata": {}
        },
        {
          "output_type": "stream",
          "name": "stdout",
          "text": [
            "\n",
            "🔎 Model: SVM\n",
            "Akurasi: 0.9117\n",
            "                     precision    recall  f1-score   support\n",
            "\n",
            "Insufficient_Weight       1.00      0.91      0.95        54\n",
            "      Normal_Weight       0.81      0.84      0.83        57\n",
            "     Obesity_Type_I       0.94      0.94      0.94        70\n",
            "    Obesity_Type_II       0.97      0.98      0.98        60\n",
            "   Obesity_Type_III       1.00      1.00      1.00        65\n",
            " Overweight_Level_I       0.73      0.85      0.79        55\n",
            "Overweight_Level_II       0.94      0.83      0.88        58\n",
            "\n",
            "           accuracy                           0.91       419\n",
            "          macro avg       0.91      0.91      0.91       419\n",
            "       weighted avg       0.92      0.91      0.91       419\n",
            "\n"
          ]
        },
        {
          "output_type": "display_data",
          "data": {
            "text/plain": [
              "<Figure size 600x400 with 2 Axes>"
            ],
            "image/png": "[encoded data removed]"
          },
          "metadata": {}
        }
      ]
    },
    {
      "cell_type": "code",
      "source": [
        "# Visualisasi akurasi\n",
        "plt.figure(figsize=(8,5))\n",
        "sns.barplot(x=list(results.keys()), y=list(results.values()), palette='Set2')\n",
        "plt.ylabel('Akurasi')\n",
        "plt.title('Perbandingan Akurasi Model')\n",
        "plt.show()"
      ],
      "metadata": {
        "id": "TEDeAdoqBlbK",
        "outputId": "e0e0f199-5d53-4c92-f371-befbe77f93d4",
        "colab": {
          "base_uri": "https://localhost:8080/",
          "height": 555
        }
      },
      "execution_count": 34,
      "outputs": [
        {
          "output_type": "stream",
          "name": "stderr",
          "text": [
            "/tmp/ipython-input-34-3488611200.py:3: FutureWarning: \n",
            "\n",
            "Passing `palette` without assigning `hue` is deprecated and will be removed in v0.14.0. Assign the `x` variable to `hue` and set `legend=False` for the same effect.\n",
            "\n",
            "  sns.barplot(x=list(results.keys()), y=list(results.values()), palette='Set2')\n"
          ]
        },
        {
          "output_type": "display_data",
          "data": {
            "text/plain": [
              "<Figure size 800x500 with 1 Axes>"
            ],
            "image/png": "[encoded data removed]"
          },
          "metadata": {}
        }
      ]
    },
    {
      "cell_type": "markdown",
      "source": [
        "\n",
        "Kesimpulan Modeling:\n",
        "- RandomForest, KNN, dan SVM telah dibandingkan.\n",
        "- RandomForest umumnya memberikan akurasi terbaik.\n"
      ],
      "metadata": {
        "id": "tDKLAnycBrJ7"
      }
    },
    {
      "cell_type": "markdown",
      "source": [
        "# -----------------------------------------------------\n",
        "# 8️⃣ Hyperparameter Tuning (contoh: RandomForest)\n",
        "# -----------------------------------------------------"
      ],
      "metadata": {
        "id": "q_6QyXaFBvt0"
      }
    },
    {
      "cell_type": "code",
      "source": [
        "param_grid = {\n",
        "    'classifier__n_estimators': [100, 200],\n",
        "    'classifier__max_depth': [None, 10, 20]\n",
        "}\n",
        "grid_rf = GridSearchCV(rf_pipeline, param_grid, cv=3, n_jobs=-1)\n",
        "grid_rf.fit(X_train, y_train)\n",
        "\n",
        "print(\"\\nBest Parameters RandomForest:\", grid_rf.best_params_)\n",
        "y_pred_rf_tuned = grid_rf.predict(X_test)\n",
        "acc_tuned = accuracy_score(y_test, y_pred_rf_tuned)\n",
        "print(f'Akurasi Setelah Tuning: {acc_tuned:.4f}')\n",
        "print(classification_report(y_test, y_pred_rf_tuned))"
      ],
      "metadata": {
        "id": "zaw_exBRBw-z",
        "outputId": "dcda7dac-e5b6-4af7-8bd6-20a3a6c0e658",
        "colab": {
          "base_uri": "https://localhost:8080/"
        }
      },
      "execution_count": 51,
      "outputs": [
        {
          "output_type": "stream",
          "name": "stderr",
          "text": [
            "/usr/local/lib/python3.11/dist-packages/sklearn/model_selection/_search.py:1108: UserWarning: One or more of the test scores are non-finite: [nan nan nan nan nan nan]\n",
            "  warnings.warn(\n"
          ]
        },
        {
          "output_type": "stream",
          "name": "stdout",
          "text": [
            "\n",
            "Best Parameters RandomForest: {'classifier__max_depth': None, 'classifier__n_estimators': 100}\n",
            "Akurasi Setelah Tuning: 0.9427\n",
            "                     precision    recall  f1-score   support\n",
            "\n",
            "Insufficient_Weight       0.98      0.94      0.96        54\n",
            "      Normal_Weight       0.81      0.95      0.87        57\n",
            "     Obesity_Type_I       0.96      0.94      0.95        70\n",
            "    Obesity_Type_II       1.00      0.98      0.99        60\n",
            "   Obesity_Type_III       1.00      0.98      0.99        65\n",
            " Overweight_Level_I       0.89      0.89      0.89        55\n",
            "Overweight_Level_II       0.98      0.90      0.94        58\n",
            "\n",
            "           accuracy                           0.94       419\n",
            "          macro avg       0.95      0.94      0.94       419\n",
            "       weighted avg       0.95      0.94      0.94       419\n",
            "\n"
          ]
        }
      ]
    },
    {
      "cell_type": "code",
      "source": [
        "# Parameter grid untuk SVM\n",
        "param_grid_svm = {\n",
        "    'classifier__C': [0.5, 1, 2],\n",
        "    'classifier__kernel': ['linear', 'rbf'],\n",
        "    'classifier__gamma': ['scale', 'auto']  # hanya untuk kernel 'rbf'\n",
        "}\n",
        "\n",
        "# Buat GridSearchCV\n",
        "grid_svm = GridSearchCV(svm_pipeline, param_grid_svm, cv=3, n_jobs=-1)\n",
        "grid_svm.fit(X_train, y_train)\n",
        "\n",
        "# Evaluasi hasil\n",
        "print(\"Best Parameters SVM:\", grid_svm.best_params_)\n",
        "\n",
        "y_pred_svm_tuned = grid_svm.predict(X_test)\n",
        "acc_svm_tuned = accuracy_score(y_test, y_pred_svm_tuned)\n",
        "print(f\"Akurasi SVM Setelah Tuning: {acc_svm_tuned:.4f}\")\n",
        "print(classification_report(y_test, y_pred_svm_tuned))\n"
      ],
      "metadata": {
        "id": "oRS3p6riFFOs",
        "outputId": "c296567b-0bbf-4c41-8f87-19c1a39019af",
        "colab": {
          "base_uri": "https://localhost:8080/"
        }
      },
      "execution_count": 48,
      "outputs": [
        {
          "output_type": "stream",
          "name": "stderr",
          "text": [
            "/usr/local/lib/python3.11/dist-packages/sklearn/model_selection/_search.py:1108: UserWarning: One or more of the test scores are non-finite: [nan nan nan nan nan nan nan nan nan nan nan nan]\n",
            "  warnings.warn(\n"
          ]
        },
        {
          "output_type": "stream",
          "name": "stdout",
          "text": [
            "Best Parameters SVM: {'classifier__C': 0.1, 'classifier__gamma': 'scale', 'classifier__kernel': 'linear'}\n",
            "Akurasi SVM Setelah Tuning: 0.8807\n",
            "                     precision    recall  f1-score   support\n",
            "\n",
            "Insufficient_Weight       0.84      1.00      0.92        54\n",
            "      Normal_Weight       0.85      0.60      0.70        57\n",
            "     Obesity_Type_I       0.96      0.94      0.95        70\n",
            "    Obesity_Type_II       0.95      0.98      0.97        60\n",
            "   Obesity_Type_III       0.98      0.98      0.98        65\n",
            " Overweight_Level_I       0.70      0.84      0.76        55\n",
            "Overweight_Level_II       0.87      0.79      0.83        58\n",
            "\n",
            "           accuracy                           0.88       419\n",
            "          macro avg       0.88      0.88      0.87       419\n",
            "       weighted avg       0.88      0.88      0.88       419\n",
            "\n"
          ]
        }
      ]
    },
    {
      "cell_type": "code",
      "source": [
        "# Visualisasi akurasi tuning\n",
        "acc_before = results['RandomForest']\n",
        "acc_after = acc_tuned\n",
        "\n",
        "plt.figure(figsize=(6,4))\n",
        "sns.barplot(x=['Before Tuning', 'After Tuning'], y=[acc_before, acc_after], palette='Set1')\n",
        "plt.ylabel('Akurasi')\n",
        "plt.title('Performa RandomForest Sebelum/Sesudah Tuning')\n",
        "plt.show()"
      ],
      "metadata": {
        "id": "-RObXcNoCBBs",
        "outputId": "019ca571-079c-4e03-bc4b-8c408b0c64e7",
        "colab": {
          "base_uri": "https://localhost:8080/",
          "height": 478
        }
      },
      "execution_count": 50,
      "outputs": [
        {
          "output_type": "stream",
          "name": "stderr",
          "text": [
            "/tmp/ipython-input-50-451764746.py:6: FutureWarning: \n",
            "\n",
            "Passing `palette` without assigning `hue` is deprecated and will be removed in v0.14.0. Assign the `x` variable to `hue` and set `legend=False` for the same effect.\n",
            "\n",
            "  sns.barplot(x=['Before Tuning', 'After Tuning'], y=[acc_before, acc_after], palette='Set1')\n"
          ]
        },
        {
          "output_type": "display_data",
          "data": {
            "text/plain": [
              "<Figure size 600x400 with 1 Axes>"
            ],
            "image/png": "[encoded data removed]"
          },
          "metadata": {}
        }
      ]
    },
    {
      "cell_type": "markdown",
      "source": [
        "Kesimpulan Tuning:\n",
        "- Akurasi Sama\n",
        "- Model siap digunakan untuk deployment."
      ],
      "metadata": {
        "id": "ibpAGoCbCTvy"
      }
    },
    {
      "cell_type": "code",
      "source": [
        "import joblib\n",
        "\n",
        "# Simpan model dan kolom input\n",
        "joblib.dump(rf_pipeline, 'randomforest_obesity_model.pkl')\n",
        "joblib.dump(X_train.columns.tolist(), 'input_columns.pkl')"
      ],
      "metadata": {
        "id": "scLmcjdzGjNl",
        "outputId": "91f01d93-bd25-4a08-eab3-06a75d73c50c",
        "colab": {
          "base_uri": "https://localhost:8080/"
        }
      },
      "execution_count": 52,
      "outputs": [
        {
          "output_type": "execute_result",
          "data": {
            "text/plain": [
              "['input_columns.pkl']"
            ]
          },
          "metadata": {},
          "execution_count": 52
        }
      ]
    },
    {
      "cell_type": "markdown",
      "source": [],
      "metadata": {
        "id": "es13pieAJjeb"
      }
    },
    {
      "cell_type": "code",
      "source": [
        "!pip list"
      ],
      "metadata": {
        "id": "EHexnLWnJkde",
        "outputId": "2aa2c842-7db0-493e-8c9c-4f212bd33598",
        "colab": {
          "base_uri": "https://localhost:8080/"
        }
      },
      "execution_count": 53,
      "outputs": [
        {
          "output_type": "stream",
          "name": "stdout",
          "text": [
            "Package                               Version\n",
            "------------------------------------- -------------------\n",
            "absl-py                               1.4.0\n",
            "accelerate                            1.7.0\n",
            "aiofiles                              24.1.0\n",
            "aiohappyeyeballs                      2.6.1\n",
            "aiohttp                               3.11.15\n",
            "aiosignal                             1.3.2\n",
            "alabaster                             1.0.0\n",
            "albucore                              0.0.24\n",
            "albumentations                        2.0.8\n",
            "ale-py                                0.11.1\n",
            "altair                                5.5.0\n",
            "annotated-types                       0.7.0\n",
            "antlr4-python3-runtime                4.9.3\n",
            "anyio                                 4.9.0\n",
            "argon2-cffi                           25.1.0\n",
            "argon2-cffi-bindings                  21.2.0\n",
            "array_record                          0.7.2\n",
            "arviz                                 0.21.0\n",
            "astropy                               7.1.0\n",
            "astropy-iers-data                     0.2025.6.16.0.38.47\n",
            "astunparse                            1.6.3\n",
            "atpublic                              5.1\n",
            "attrs                                 25.3.0\n",
            "audioread                             3.0.1\n",
            "autograd                              1.8.0\n",
            "babel                                 2.17.0\n",
            "backcall                              0.2.0\n",
            "backports.tarfile                     1.2.0\n",
            "beautifulsoup4                        4.13.4\n",
            "betterproto                           2.0.0b6\n",
            "bigframes                             2.6.0\n",
            "bigquery-magics                       0.9.0\n",
            "bleach                                6.2.0\n",
            "blinker                               1.9.0\n",
            "blis                                  1.3.0\n",
            "blobfile                              3.0.0\n",
            "blosc2                                3.4.0\n",
            "bokeh                                 3.7.3\n",
            "Bottleneck                            1.4.2\n",
            "bqplot                                0.12.45\n",
            "branca                                0.8.1\n",
            "build                                 1.2.2.post1\n",
            "CacheControl                          0.14.3\n",
            "cachetools                            5.5.2\n",
            "catalogue                             2.0.10\n",
            "certifi                               2025.6.15\n",
            "cffi                                  1.17.1\n",
            "chardet                               5.2.0\n",
            "charset-normalizer                    3.4.2\n",
            "chex                                  0.1.89\n",
            "clarabel                              0.11.1\n",
            "click                                 8.2.1\n",
            "cloudpathlib                          0.21.1\n",
            "cloudpickle                           3.1.1\n",
            "cmake                                 3.31.6\n",
            "cmdstanpy                             1.2.5\n",
            "colorcet                              3.1.0\n",
            "colorlover                            0.3.0\n",
            "colour                                0.1.5\n",
            "community                             1.0.0b1\n",
            "confection                            0.1.5\n",
            "cons                                  0.4.6\n",
            "contourpy                             1.3.2\n",
            "cramjam                               2.10.0\n",
            "cryptography                          43.0.3\n",
            "cuda-python                           12.6.2.post1\n",
            "cudf-cu12                             25.2.1\n",
            "cudf-polars-cu12                      25.2.2\n",
            "cufflinks                             0.17.3\n",
            "cuml-cu12                             25.2.1\n",
            "cupy-cuda12x                          13.3.0\n",
            "curl_cffi                             0.11.3\n",
            "cuvs-cu12                             25.2.1\n",
            "cvxopt                                1.3.2\n",
            "cvxpy                                 1.6.6\n",
            "cycler                                0.12.1\n",
            "cyipopt                               1.5.0\n",
            "cymem                                 2.0.11\n",
            "Cython                                3.0.12\n",
            "dask                                  2024.12.1\n",
            "dask-cuda                             25.2.0\n",
            "dask-cudf-cu12                        25.2.2\n",
            "dask-expr                             1.1.21\n",
            "dataproc-spark-connect                0.7.5\n",
            "datascience                           0.17.6\n",
            "datasets                              2.14.4\n",
            "db-dtypes                             1.4.3\n",
            "dbus-python                           1.2.18\n",
            "debugpy                               1.8.0\n",
            "decorator                             4.4.2\n",
            "defusedxml                            0.7.1\n",
            "diffusers                             0.33.1\n",
            "dill                                  0.3.7\n",
            "distributed                           2024.12.1\n",
            "distributed-ucxx-cu12                 0.42.0\n",
            "distro                                1.9.0\n",
            "dlib                                  19.24.6\n",
            "dm-tree                               0.1.9\n",
            "docstring_parser                      0.16\n",
            "docutils                              0.21.2\n",
            "dopamine_rl                           4.1.2\n",
            "duckdb                                1.2.2\n",
            "earthengine-api                       1.5.19\n",
            "easydict                              1.13\n",
            "editdistance                          0.8.1\n",
            "eerepr                                0.1.2\n",
            "einops                                0.8.1\n",
            "en_core_web_sm                        3.8.0\n",
            "entrypoints                           0.4\n",
            "et_xmlfile                            2.0.0\n",
            "etils                                 1.12.2\n",
            "etuples                               0.3.9\n",
            "Farama-Notifications                  0.0.4\n",
            "fastai                                2.7.19\n",
            "fastapi                               0.115.12\n",
            "fastcore                              1.7.29\n",
            "fastdownload                          0.0.7\n",
            "fastjsonschema                        2.21.1\n",
            "fastprogress                          1.0.3\n",
            "fastrlock                             0.8.3\n",
            "ffmpy                                 0.6.0\n",
            "filelock                              3.18.0\n",
            "firebase-admin                        6.9.0\n",
            "Flask                                 3.1.1\n",
            "flatbuffers                           25.2.10\n",
            "flax                                  0.10.6\n",
            "folium                                0.19.7\n",
            "fonttools                             4.58.4\n",
            "frozendict                            2.4.6\n",
            "frozenlist                            1.7.0\n",
            "fsspec                                2025.3.2\n",
            "future                                1.0.0\n",
            "gast                                  0.6.0\n",
            "gcsfs                                 2025.3.2\n",
            "GDAL                                  3.8.4\n",
            "gdown                                 5.2.0\n",
            "geemap                                0.35.3\n",
            "geocoder                              1.38.1\n",
            "geographiclib                         2.0\n",
            "geopandas                             1.0.1\n",
            "geopy                                 2.4.1\n",
            "gin-config                            0.5.0\n",
            "gitdb                                 4.0.12\n",
            "GitPython                             3.1.44\n",
            "glob2                                 0.7\n",
            "google                                2.0.3\n",
            "google-ai-generativelanguage          0.6.15\n",
            "google-api-core                       2.25.1\n",
            "google-api-python-client              2.172.0\n",
            "google-auth                           2.38.0\n",
            "google-auth-httplib2                  0.2.0\n",
            "google-auth-oauthlib                  1.2.2\n",
            "google-cloud-aiplatform               1.97.0\n",
            "google-cloud-bigquery                 3.34.0\n",
            "google-cloud-bigquery-connection      1.18.3\n",
            "google-cloud-bigquery-storage         2.32.0\n",
            "google-cloud-core                     2.4.3\n",
            "google-cloud-dataproc                 5.20.0\n",
            "google-cloud-datastore                2.21.0\n",
            "google-cloud-firestore                2.21.0\n",
            "google-cloud-functions                1.20.4\n",
            "google-cloud-iam                      2.19.1\n",
            "google-cloud-language                 2.17.2\n",
            "google-cloud-resource-manager         1.14.2\n",
            "google-cloud-spanner                  3.55.0\n",
            "google-cloud-storage                  2.19.0\n",
            "google-cloud-translate                3.20.3\n",
            "google-colab                          1.0.0\n",
            "google-crc32c                         1.7.1\n",
            "google-genai                          1.20.0\n",
            "google-generativeai                   0.8.5\n",
            "google-pasta                          0.2.0\n",
            "google-resumable-media                2.7.2\n",
            "googleapis-common-protos              1.70.0\n",
            "googledrivedownloader                 1.1.0\n",
            "gradio                                5.31.0\n",
            "gradio_client                         1.10.1\n",
            "graphviz                              0.21\n",
            "greenlet                              3.2.3\n",
            "groovy                                0.1.2\n",
            "grpc-google-iam-v1                    0.14.2\n",
            "grpc-interceptor                      0.15.4\n",
            "grpcio                                1.73.0\n",
            "grpcio-status                         1.71.0\n",
            "grpclib                               0.4.8\n",
            "gspread                               6.2.1\n",
            "gspread-dataframe                     4.0.0\n",
            "gym                                   0.25.2\n",
            "gym-notices                           0.0.8\n",
            "gymnasium                             1.1.1\n",
            "h11                                   0.16.0\n",
            "h2                                    4.2.0\n",
            "h5netcdf                              1.6.1\n",
            "h5py                                  3.14.0\n",
            "hdbscan                               0.8.40\n",
            "hf_transfer                           0.1.9\n",
            "hf-xet                                1.1.3\n",
            "highspy                               1.11.0\n",
            "holidays                              0.74\n",
            "holoviews                             1.20.2\n",
            "hpack                                 4.1.0\n",
            "html5lib                              1.1\n",
            "httpcore                              1.0.9\n",
            "httpimport                            1.4.1\n",
            "httplib2                              0.22.0\n",
            "httpx                                 0.28.1\n",
            "huggingface-hub                       0.33.0\n",
            "humanize                              4.12.3\n",
            "hyperframe                            6.1.0\n",
            "hyperopt                              0.2.7\n",
            "ibis-framework                        9.5.0\n",
            "idna                                  3.10\n",
            "imageio                               2.37.0\n",
            "imageio-ffmpeg                        0.6.0\n",
            "imagesize                             1.4.1\n",
            "imbalanced-learn                      0.13.0\n",
            "immutabledict                         4.2.1\n",
            "importlib_metadata                    8.7.0\n",
            "importlib_resources                   6.5.2\n",
            "imutils                               0.5.4\n",
            "inflect                               7.5.0\n",
            "iniconfig                             2.1.0\n",
            "intel-cmplr-lib-ur                    2025.1.1\n",
            "intel-openmp                          2025.1.1\n",
            "ipyevents                             2.0.2\n",
            "ipyfilechooser                        0.6.0\n",
            "ipykernel                             6.17.1\n",
            "ipyleaflet                            0.20.0\n",
            "ipyparallel                           8.8.0\n",
            "ipython                               7.34.0\n",
            "ipython-genutils                      0.2.0\n",
            "ipython-sql                           0.5.0\n",
            "ipytree                               0.2.2\n",
            "ipywidgets                            7.7.1\n",
            "itsdangerous                          2.2.0\n",
            "jaraco.classes                        3.4.0\n",
            "jaraco.context                        6.0.1\n",
            "jaraco.functools                      4.1.0\n",
            "jax                                   0.5.2\n",
            "jax-cuda12-pjrt                       0.5.1\n",
            "jax-cuda12-plugin                     0.5.1\n",
            "jaxlib                                0.5.1\n",
            "jeepney                               0.9.0\n",
            "jieba                                 0.42.1\n",
            "Jinja2                                3.1.6\n",
            "jiter                                 0.10.0\n",
            "joblib                                1.5.1\n",
            "jsonpatch                             1.33\n",
            "jsonpickle                            4.1.1\n",
            "jsonpointer                           3.0.0\n",
            "jsonschema                            4.24.0\n",
            "jsonschema-specifications             2025.4.1\n",
            "jupyter-client                        6.1.12\n",
            "jupyter-console                       6.1.0\n",
            "jupyter_core                          5.8.1\n",
            "jupyter_kernel_gateway                2.5.2\n",
            "jupyter-leaflet                       0.20.0\n",
            "jupyter-server                        1.16.0\n",
            "jupyterlab_pygments                   0.3.0\n",
            "jupyterlab_widgets                    3.0.15\n",
            "jupytext                              1.17.2\n",
            "kaggle                                1.7.4.5\n",
            "kagglehub                             0.3.12\n",
            "keras                                 3.8.0\n",
            "keras-hub                             0.18.1\n",
            "keras-nlp                             0.18.1\n",
            "keyring                               25.6.0\n",
            "keyrings.google-artifactregistry-auth 1.1.2\n",
            "kiwisolver                            1.4.8\n",
            "langchain                             0.3.25\n",
            "langchain-core                        0.3.65\n",
            "langchain-text-splitters              0.3.8\n",
            "langcodes                             3.5.0\n",
            "langsmith                             0.3.45\n",
            "language_data                         1.3.0\n",
            "launchpadlib                          1.10.16\n",
            "lazr.restfulclient                    0.14.4\n",
            "lazr.uri                              1.0.6\n",
            "lazy_loader                           0.4\n",
            "libclang                              18.1.1\n",
            "libcudf-cu12                          25.2.1\n",
            "libcugraph-cu12                       25.2.0\n",
            "libcuml-cu12                          25.2.1\n",
            "libcuvs-cu12                          25.2.1\n",
            "libkvikio-cu12                        25.2.1\n",
            "libpysal                              4.13.0\n",
            "libraft-cu12                          25.2.0\n",
            "librosa                               0.11.0\n",
            "libucx-cu12                           1.18.1\n",
            "libucxx-cu12                          0.42.0\n",
            "lightgbm                              4.5.0\n",
            "linkify-it-py                         2.0.3\n",
            "llvmlite                              0.43.0\n",
            "locket                                1.0.0\n",
            "logical-unification                   0.4.6\n",
            "lxml                                  5.4.0\n",
            "Mako                                  1.1.3\n",
            "marisa-trie                           1.2.1\n",
            "Markdown                              3.8\n",
            "markdown-it-py                        3.0.0\n",
            "MarkupSafe                            3.0.2\n",
            "matplotlib                            3.10.0\n",
            "matplotlib-inline                     0.1.7\n",
            "matplotlib-venn                       1.1.2\n",
            "mdit-py-plugins                       0.4.2\n",
            "mdurl                                 0.1.2\n",
            "miniKanren                            1.0.3\n",
            "missingno                             0.5.2\n",
            "mistune                               3.1.3\n",
            "mizani                                0.13.5\n",
            "mkl                                   2025.0.1\n",
            "ml-dtypes                             0.4.1\n",
            "mlxtend                               0.23.4\n",
            "more-itertools                        10.7.0\n",
            "moviepy                               1.0.3\n",
            "mpmath                                1.3.0\n",
            "msgpack                               1.1.1\n",
            "multidict                             6.4.4\n",
            "multipledispatch                      1.0.0\n",
            "multiprocess                          0.70.15\n",
            "multitasking                          0.0.11\n",
            "murmurhash                            1.0.13\n",
            "music21                               9.3.0\n",
            "namex                                 0.1.0\n",
            "narwhals                              1.43.0\n",
            "natsort                               8.4.0\n",
            "nbclassic                             1.3.1\n",
            "nbclient                              0.10.2\n",
            "nbconvert                             7.16.6\n",
            "nbformat                              5.10.4\n",
            "ndindex                               1.10.0\n",
            "nest-asyncio                          1.6.0\n",
            "networkx                              3.5\n",
            "nibabel                               5.3.2\n",
            "nltk                                  3.9.1\n",
            "notebook                              6.5.7\n",
            "notebook_shim                         0.2.4\n",
            "numba                                 0.60.0\n",
            "numba-cuda                            0.2.0\n",
            "numexpr                               2.11.0\n",
            "numpy                                 2.0.2\n",
            "nvidia-cublas-cu12                    12.5.3.2\n",
            "nvidia-cuda-cupti-cu12                12.5.82\n",
            "nvidia-cuda-nvcc-cu12                 12.5.82\n",
            "nvidia-cuda-nvrtc-cu12                12.5.82\n",
            "nvidia-cuda-runtime-cu12              12.5.82\n",
            "nvidia-cudnn-cu12                     9.3.0.75\n",
            "nvidia-cufft-cu12                     11.2.3.61\n",
            "nvidia-curand-cu12                    10.3.6.82\n",
            "nvidia-cusolver-cu12                  11.6.3.83\n",
            "nvidia-cusparse-cu12                  12.5.1.3\n",
            "nvidia-cusparselt-cu12                0.6.2\n",
            "nvidia-ml-py                          12.575.51\n",
            "nvidia-nccl-cu12                      2.21.5\n",
            "nvidia-nvcomp-cu12                    4.2.0.11\n",
            "nvidia-nvjitlink-cu12                 12.5.82\n",
            "nvidia-nvtx-cu12                      12.4.127\n",
            "nvtx                                  0.2.12\n",
            "nx-cugraph-cu12                       25.2.0\n",
            "oauth2client                          4.1.3\n",
            "oauthlib                              3.2.2\n",
            "omegaconf                             2.3.0\n",
            "openai                                1.86.0\n",
            "opencv-contrib-python                 4.11.0.86\n",
            "opencv-python                         4.11.0.86\n",
            "opencv-python-headless                4.11.0.86\n",
            "openpyxl                              3.1.5\n",
            "opt_einsum                            3.4.0\n",
            "optax                                 0.2.5\n",
            "optree                                0.16.0\n",
            "orbax-checkpoint                      0.11.15\n",
            "orjson                                3.10.18\n",
            "osqp                                  1.0.4\n",
            "packaging                             24.2\n",
            "pandas                                2.2.2\n",
            "pandas-datareader                     0.10.0\n",
            "pandas-gbq                            0.29.1\n",
            "pandas-stubs                          2.2.2.240909\n",
            "pandocfilters                         1.5.1\n",
            "panel                                 1.7.1\n",
            "param                                 2.2.1\n",
            "parso                                 0.8.4\n",
            "parsy                                 2.1\n",
            "partd                                 1.4.2\n",
            "pathlib                               1.0.1\n",
            "patsy                                 1.0.1\n",
            "peewee                                3.18.1\n",
            "peft                                  0.15.2\n",
            "pexpect                               4.9.0\n",
            "pickleshare                           0.7.5\n",
            "pillow                                11.2.1\n",
            "pip                                   24.1.2\n",
            "platformdirs                          4.3.8\n",
            "plotly                                5.24.1\n",
            "plotnine                              0.14.5\n",
            "pluggy                                1.6.0\n",
            "ply                                   3.11\n",
            "polars                                1.21.0\n",
            "pooch                                 1.8.2\n",
            "portpicker                            1.5.2\n",
            "preshed                               3.0.10\n",
            "prettytable                           3.16.0\n",
            "proglog                               0.1.12\n",
            "progressbar2                          4.5.0\n",
            "prometheus_client                     0.22.1\n",
            "promise                               2.3\n",
            "prompt_toolkit                        3.0.51\n",
            "propcache                             0.3.2\n",
            "prophet                               1.1.7\n",
            "proto-plus                            1.26.1\n",
            "protobuf                              5.29.5\n",
            "psutil                                5.9.5\n",
            "psycopg2                              2.9.10\n",
            "ptyprocess                            0.7.0\n",
            "py-cpuinfo                            9.0.0\n",
            "py4j                                  0.10.9.7\n",
            "pyarrow                               18.1.0\n",
            "pyasn1                                0.6.1\n",
            "pyasn1_modules                        0.4.2\n",
            "pycairo                               1.28.0\n",
            "pycocotools                           2.0.10\n",
            "pycparser                             2.22\n",
            "pycryptodomex                         3.23.0\n",
            "pydantic                              2.11.7\n",
            "pydantic_core                         2.33.2\n",
            "pydata-google-auth                    1.9.1\n",
            "pydot                                 3.0.4\n",
            "pydotplus                             2.0.2\n",
            "PyDrive                               1.3.1\n",
            "PyDrive2                              1.21.3\n",
            "pydub                                 0.25.1\n",
            "pyerfa                                2.0.1.5\n",
            "pygame                                2.6.1\n",
            "pygit2                                1.18.0\n",
            "Pygments                              2.19.1\n",
            "PyGObject                             3.42.0\n",
            "PyJWT                                 2.10.1\n",
            "pylibcudf-cu12                        25.2.1\n",
            "pylibcugraph-cu12                     25.2.0\n",
            "pylibraft-cu12                        25.2.0\n",
            "pymc                                  5.23.0\n",
            "pymystem3                             0.2.0\n",
            "pynndescent                           0.5.13\n",
            "pynvjitlink-cu12                      0.6.0\n",
            "pynvml                                12.0.0\n",
            "pyogrio                               0.11.0\n",
            "pyomo                                 6.9.2\n",
            "PyOpenGL                              3.1.9\n",
            "pyOpenSSL                             24.2.1\n",
            "pyparsing                             3.2.3\n",
            "pyperclip                             1.9.0\n",
            "pyproj                                3.7.1\n",
            "pyproject_hooks                       1.2.0\n",
            "pyshp                                 2.3.1\n",
            "PySocks                               1.7.1\n",
            "pyspark                               3.5.1\n",
            "pytensor                              2.31.3\n",
            "pytest                                8.3.5\n",
            "python-apt                            0.0.0\n",
            "python-box                            7.3.2\n",
            "python-dateutil                       2.9.0.post0\n",
            "python-louvain                        0.16\n",
            "python-multipart                      0.0.20\n",
            "python-slugify                        8.0.4\n",
            "python-snappy                         0.7.3\n",
            "python-utils                          3.9.1\n",
            "pytz                                  2025.2\n",
            "pyviz_comms                           3.0.5\n",
            "PyWavelets                            1.8.0\n",
            "PyYAML                                6.0.2\n",
            "pyzmq                                 24.0.1\n",
            "raft-dask-cu12                        25.2.0\n",
            "rapids-dask-dependency                25.2.0\n",
            "ratelim                               0.1.6\n",
            "referencing                           0.36.2\n",
            "regex                                 2024.11.6\n",
            "requests                              2.32.3\n",
            "requests-oauthlib                     2.0.0\n",
            "requests-toolbelt                     1.0.0\n",
            "requirements-parser                   0.9.0\n",
            "rich                                  13.9.4\n",
            "rmm-cu12                              25.2.0\n",
            "roman-numerals-py                     3.1.0\n",
            "rpds-py                               0.25.1\n",
            "rpy2                                  3.5.17\n",
            "rsa                                   4.9.1\n",
            "ruff                                  0.11.13\n",
            "safehttpx                             0.1.6\n",
            "safetensors                           0.5.3\n",
            "scikit-image                          0.25.2\n",
            "scikit-learn                          1.6.1\n",
            "scipy                                 1.15.3\n",
            "scooby                                0.10.1\n",
            "scs                                   3.2.7.post2\n",
            "seaborn                               0.13.2\n",
            "SecretStorage                         3.3.3\n",
            "semantic-version                      2.10.0\n",
            "Send2Trash                            1.8.3\n",
            "sentence-transformers                 4.1.0\n",
            "sentencepiece                         0.2.0\n",
            "sentry-sdk                            2.30.0\n",
            "setproctitle                          1.3.6\n",
            "setuptools                            75.2.0\n",
            "shap                                  0.48.0\n",
            "shapely                               2.1.1\n",
            "shellingham                           1.5.4\n",
            "simple-parsing                        0.1.7\n",
            "simplejson                            3.20.1\n",
            "simsimd                               6.4.9\n",
            "six                                   1.17.0\n",
            "sklearn-compat                        0.1.3\n",
            "sklearn-pandas                        2.2.0\n",
            "slicer                                0.0.8\n",
            "smart-open                            7.1.0\n",
            "smmap                                 5.0.2\n",
            "sniffio                               1.3.1\n",
            "snowballstemmer                       3.0.1\n",
            "sortedcontainers                      2.4.0\n",
            "soundfile                             0.13.1\n",
            "soupsieve                             2.7\n",
            "soxr                                  0.5.0.post1\n",
            "spacy                                 3.8.7\n",
            "spacy-legacy                          3.0.12\n",
            "spacy-loggers                         1.0.5\n",
            "spanner-graph-notebook                1.1.7\n",
            "Sphinx                                8.2.3\n",
            "sphinxcontrib-applehelp               2.0.0\n",
            "sphinxcontrib-devhelp                 2.0.0\n",
            "sphinxcontrib-htmlhelp                2.1.0\n",
            "sphinxcontrib-jsmath                  1.0.1\n",
            "sphinxcontrib-qthelp                  2.0.0\n",
            "sphinxcontrib-serializinghtml         2.0.0\n",
            "SQLAlchemy                            2.0.41\n",
            "sqlglot                               25.20.2\n",
            "sqlparse                              0.5.3\n",
            "srsly                                 2.5.1\n",
            "stanio                                0.5.1\n",
            "starlette                             0.46.2\n",
            "statsmodels                           0.14.4\n",
            "stringzilla                           3.12.5\n",
            "stumpy                                1.13.0\n",
            "sympy                                 1.13.1\n",
            "tables                                3.10.2\n",
            "tabulate                              0.9.0\n",
            "tbb                                   2022.1.0\n",
            "tblib                                 3.1.0\n",
            "tcmlib                                1.3.0\n",
            "tenacity                              9.1.2\n",
            "tensorboard                           2.18.0\n",
            "tensorboard-data-server               0.7.2\n",
            "tensorflow                            2.18.0\n",
            "tensorflow-datasets                   4.9.9\n",
            "tensorflow_decision_forests           1.11.0\n",
            "tensorflow-hub                        0.16.1\n",
            "tensorflow-io-gcs-filesystem          0.37.1\n",
            "tensorflow-metadata                   1.17.1\n",
            "tensorflow-probability                0.25.0\n",
            "tensorflow-text                       2.18.1\n",
            "tensorstore                           0.1.74\n",
            "termcolor                             3.1.0\n",
            "terminado                             0.18.1\n",
            "text-unidecode                        1.3\n",
            "textblob                              0.19.0\n",
            "tf_keras                              2.18.0\n",
            "tf-slim                               1.1.0\n",
            "thinc                                 8.3.6\n",
            "threadpoolctl                         3.6.0\n",
            "tifffile                              2025.6.11\n",
            "tiktoken                              0.9.0\n",
            "timm                                  1.0.15\n",
            "tinycss2                              1.4.0\n",
            "tokenizers                            0.21.1\n",
            "toml                                  0.10.2\n",
            "tomlkit                               0.13.3\n",
            "toolz                                 0.12.1\n",
            "torch                                 2.6.0+cu124\n",
            "torchao                               0.10.0\n",
            "torchaudio                            2.6.0+cu124\n",
            "torchdata                             0.11.0\n",
            "torchsummary                          1.5.1\n",
            "torchtune                             0.6.1\n",
            "torchvision                           0.21.0+cu124\n",
            "tornado                               6.4.2\n",
            "tqdm                                  4.67.1\n",
            "traitlets                             5.7.1\n",
            "traittypes                            0.2.1\n",
            "transformers                          4.52.4\n",
            "treelite                              4.4.1\n",
            "treescope                             0.1.9\n",
            "triton                                3.2.0\n",
            "tsfresh                               0.21.0\n",
            "tweepy                                4.15.0\n",
            "typeguard                             4.4.3\n",
            "typer                                 0.16.0\n",
            "types-pytz                            2025.2.0.20250516\n",
            "types-setuptools                      80.9.0.20250529\n",
            "typing_extensions                     4.14.0\n",
            "typing-inspection                     0.4.1\n",
            "tzdata                                2025.2\n",
            "tzlocal                               5.3.1\n",
            "uc-micro-py                           1.0.3\n",
            "ucx-py-cu12                           0.42.0\n",
            "ucxx-cu12                             0.42.0\n",
            "umap-learn                            0.5.7\n",
            "umf                                   0.10.0\n",
            "uritemplate                           4.2.0\n",
            "urllib3                               2.4.0\n",
            "uvicorn                               0.34.3\n",
            "vega-datasets                         0.9.0\n",
            "wadllib                               1.3.6\n",
            "wandb                                 0.20.1\n",
            "wasabi                                1.1.3\n",
            "wcwidth                               0.2.13\n",
            "weasel                                0.4.1\n",
            "webcolors                             24.11.1\n",
            "webencodings                          0.5.1\n",
            "websocket-client                      1.8.0\n",
            "websockets                            15.0.1\n",
            "Werkzeug                              3.1.3\n",
            "wheel                                 0.45.1\n",
            "widgetsnbextension                    3.6.10\n",
            "wordcloud                             1.9.4\n",
            "wrapt                                 1.17.2\n",
            "wurlitzer                             3.1.1\n",
            "xarray                                2025.3.1\n",
            "xarray-einstats                       0.9.0\n",
            "xgboost                               2.1.4\n",
            "xlrd                                  2.0.2\n",
            "xxhash                                3.5.0\n",
            "xyzservices                           2025.4.0\n",
            "yarl                                  1.20.1\n",
            "ydf                                   0.12.0\n",
            "yellowbrick                           1.5\n",
            "yfinance                              0.2.63\n",
            "zict                                  3.0.0\n",
            "zipp                                  3.23.0\n",
            "zstandard                             0.23.0\n"
          ]
        }
      ]
    }
  ],
  "metadata": {
    "colab": {
      "provenance": [],
      "authorship_tag": "ABX9TyObwfO98Fd2Vxw0MqgHr/YA",
      "include_colab_link": true
    },
    "kernelspec": {
      "display_name": "Python 3",
      "name": "python3"
    },
    "language_info": {
      "name": "python"
    }
  },
  "nbformat": 4,
  "nbformat_minor": 0
}